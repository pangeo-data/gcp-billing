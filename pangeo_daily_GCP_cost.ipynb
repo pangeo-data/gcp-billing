{
 "cells": [
  {
   "cell_type": "code",
   "execution_count": null,
   "metadata": {},
   "outputs": [],
   "source": [
    "%matplotlib inline\n",
    "\n",
    "import pydata_google_auth\n",
    "import pandas as pd\n",
    "import pandas_gbq\n",
    "\n",
    "import matplotlib.pyplot as plt\n",
    "\n",
    "projectid = \"pangeo-181919\"\n",
    "table = 'pangeo-181919.pangeo_kubernetes_logs.gcp_billing_export_v1_016C8D_761AEE_B0C379'"
   ]
  },
  {
   "cell_type": "code",
   "execution_count": null,
   "metadata": {},
   "outputs": [],
   "source": [
    "credentials = pydata_google_auth.get_user_credentials(\n",
    "    ['https://www.googleapis.com/auth/cloud-platform'],\n",
    ")\n",
    "pandas_gbq.context.credentials = credentials"
   ]
  },
  {
   "cell_type": "code",
   "execution_count": null,
   "metadata": {},
   "outputs": [],
   "source": [
    "plt.rcParams['figure.figsize'] = (16,10)\n",
    "plt.rcParams['font.size'] = 14"
   ]
  },
  {
   "cell_type": "code",
   "execution_count": null,
   "metadata": {},
   "outputs": [],
   "source": [
    "def query_to_df(query):\n",
    "    return pd.read_gbq(query, project_id=projectid, dialect='standard')\n",
    "\n",
    "def plot_result(df, target='cost', gb_cols=None):\n",
    "    if gb_cols is None:\n",
    "        gb_cols = [col for col in df.columns if col != target]\n",
    "    # make sure time is first for gb\n",
    "    if 'time' in gb_cols:\n",
    "        gb_cols.remove('time')\n",
    "        gb_cols = ['time'] + gb_cols\n",
    "    df_gb = df.groupby(gb_cols)[target].sum()\n",
    "    fig, ax = plt.subplots()\n",
    "    df_gb.unstack().plot(kind='area', stacked=True, ax=ax)\n",
    "    ax.grid()\n",
    "    ax.set_ylabel('USD')\n",
    "    return ax\n"
   ]
  },
  {
   "cell_type": "code",
   "execution_count": null,
   "metadata": {},
   "outputs": [],
   "source": [
    "query = \"\"\"\n",
    "#standardSQL\n",
    "SELECT\n",
    "    service.description as service_description,\n",
    "    EXTRACT(DATE from usage_start_time) as time,\n",
    "    SUM(cost) as cost\n",
    "FROM `pangeo-181919.pangeo_kubernetes_logs.gcp_billing_export_v1_016C8D_761AEE_B0C379`\n",
    "GROUP BY service_description, time\n",
    "ORDER BY cost DESC\n",
    "\"\"\"\n",
    "\n",
    "df_services = query_to_df(query)\n",
    "ax = plot_result(df_services)\n",
    "ax.set_title('Pangeo GCP Service Cost')"
   ]
  },
  {
   "cell_type": "code",
   "execution_count": null,
   "metadata": {},
   "outputs": [],
   "source": [
    "query = \"\"\"\n",
    "#standardSQL\n",
    "SELECT * from (\n",
    "  SELECT\n",
    "    labels.value as cluster,\n",
    "    sku.description as sku_description,\n",
    "    EXTRACT(DATE from usage_start_time) as time,\n",
    "    SUM(cost) as cost\n",
    "  FROM `pangeo-181919.pangeo_kubernetes_logs.gcp_billing_export_v1_016C8D_761AEE_B0C379`\n",
    "  LEFT JOIN UNNEST(labels) as labels\n",
    "    ON labels.key = \"cluster\"\n",
    "  GROUP BY cluster, sku_description, time)\n",
    "WHERE\n",
    " (cluster IS NOT NULL) and\n",
    " (cost > 1)\n",
    "ORDER BY cluster, cost DESC\n",
    "\"\"\"\n",
    "\n",
    "\n",
    "df_clusters = query_to_df(query)\n",
    "ax = plot_result(df_clusters, gb_cols=['time', 'cluster'])\n",
    "ax.set_title('Pangeo GCP Cluster Cost')"
   ]
  },
  {
   "cell_type": "code",
   "execution_count": null,
   "metadata": {},
   "outputs": [],
   "source": [
    "top_clusters = df_clusters.groupby('cluster')['cost'].sum().nlargest(3)\n",
    "top_clusters"
   ]
  },
  {
   "cell_type": "code",
   "execution_count": null,
   "metadata": {},
   "outputs": [],
   "source": [
    "for cluster in top_clusters.index:\n",
    "    df_cluster = df_clusters[df_clusters.cluster==cluster]\n",
    "    ax = plot_result(df_cluster, gb_cols=['time', 'sku_description'])\n",
    "    ax.set_title('Pangeo GCP Cluster Cost')\n",
    "    ax.set_title(f'{cluster} Cluster Daily Compute Cost')    "
   ]
  },
  {
   "cell_type": "code",
   "execution_count": null,
   "metadata": {},
   "outputs": [],
   "source": []
  }
 ],
 "metadata": {
  "kernelspec": {
   "display_name": "Python 3",
   "language": "python",
   "name": "python3"
  },
  "language_info": {
   "codemirror_mode": {
    "name": "ipython",
    "version": 3
   },
   "file_extension": ".py",
   "mimetype": "text/x-python",
   "name": "python",
   "nbconvert_exporter": "python",
   "pygments_lexer": "ipython3",
   "version": "3.6.7"
  }
 },
 "nbformat": 4,
 "nbformat_minor": 2
}
