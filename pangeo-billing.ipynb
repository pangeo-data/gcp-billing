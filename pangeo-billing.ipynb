{
 "cells": [
  {
   "cell_type": "markdown",
   "metadata": {},
   "source": [
    "Pangeo Billing Analysis\n",
    "=======================\n",
    "\n",
    "This is a simple notebook demonstrating how to access the billing logs for the Pangeo GCP account.\n",
    "The analysis below investigates the per-cluster costs of the kubernetes clusters running on GCP.\n",
    "The data is stored on Google Big Query and we access the tables directly using Pandas-GBQ."
   ]
  },
  {
   "cell_type": "code",
   "execution_count": null,
   "metadata": {},
   "outputs": [],
   "source": [
    "%matplotlib inline\n",
    "\n",
    "import pydata_google_auth\n",
    "import pandas as pd\n",
    "import pandas_gbq\n",
    "\n",
    "import matplotlib.pyplot as plt\n",
    "\n",
    "projectid = \"pangeo-181919\"\n",
    "table = 'pangeo-181919.pangeo_kubernetes_logs.gcp_billing_export_v1_016C8D_761AEE_B0C379'"
   ]
  },
  {
   "cell_type": "markdown",
   "metadata": {},
   "source": [
    "#### Authenticate to GCP\n",
    "We explicitly authenticate via URL and assign to pandas_gbq context. You will likely need to copy a link into your browser and return with an authentication code. "
   ]
  },
  {
   "cell_type": "code",
   "execution_count": null,
   "metadata": {},
   "outputs": [],
   "source": [
    "credentials = pydata_google_auth.get_user_credentials(\n",
    "    ['https://www.googleapis.com/auth/cloud-platform'],\n",
    ")\n",
    "pandas_gbq.context.credentials = credentials"
   ]
  },
  {
   "cell_type": "markdown",
   "metadata": {},
   "source": [
    "Pandas GBQ allows us to send commands directly to Big-Query and retun a Pandas Dataframe. Below we extract the full table but you could change this to just extract a subset of the records."
   ]
  },
  {
   "cell_type": "code",
   "execution_count": null,
   "metadata": {},
   "outputs": [],
   "source": [
    "data_frame = pd.read_gbq(f'SELECT * FROM `{table}`',\n",
    "                         project_id=projectid,\n",
    "                         dialect='standard')\n",
    "# some minor data cleaning\n",
    "df = data_frame.set_index('usage_start_time').tz_convert(None)"
   ]
  },
  {
   "cell_type": "code",
   "execution_count": null,
   "metadata": {},
   "outputs": [],
   "source": [
    "display(df.head())"
   ]
  },
  {
   "cell_type": "markdown",
   "metadata": {},
   "source": [
    "### Daily Costs\n",
    "\n",
    "In the cell below, we first calculate the total daily cost of all GCP services, then we plot the results. As you can see, we started paying closer attention to our burn rate in January 2019 and made significant improvements over the next 4 months."
   ]
  },
  {
   "cell_type": "code",
   "execution_count": null,
   "metadata": {},
   "outputs": [],
   "source": [
    "df.cost.resample('1D').sum().plot()\n",
    "plt.title('Daily GCP Costs -- All Services')\n",
    "plt.ylabel('Cost (USD)')"
   ]
  },
  {
   "cell_type": "markdown",
   "metadata": {},
   "source": [
    "### Group costs by cluster\n",
    "\n",
    "We have been running a number of kubernetes clusters, mostly hosting JupyterHubs but also our public BinderHub deployment. In March 2019, we gave each of these clusters a label so we could better track their relative and actual expenses."
   ]
  },
  {
   "cell_type": "code",
   "execution_count": null,
   "metadata": {},
   "outputs": [],
   "source": [
    "def get_cluster(items):\n",
    "    '''helper function to extract cluster label'''\n",
    "    d = {i['key']: i['value'] for i in items}\n",
    "    \n",
    "    return d.get('cluster', 'none')"
   ]
  },
  {
   "cell_type": "markdown",
   "metadata": {},
   "source": [
    "For this example, we want to determine how much we spent on each of our individual kubernetes clusters in April 2019. We use the `get_cluster` helper function to extract the cluster label and then a Pandas groupby to find the monthly total amounts. We drop the `'none'` label because that correpsonds to costs other than kubernetes clusters (e.g. cloud storage)."
   ]
  },
  {
   "cell_type": "code",
   "execution_count": null,
   "metadata": {},
   "outputs": [],
   "source": [
    "# time range -- you can change this if you want!\n",
    "tslice = slice('2019-04-01', '2019-05-01')\n",
    "# get the clusters\n",
    "clusters = df.loc[tslice].labels.map(get_cluster)\n",
    "# groupby cluster and sum over time\n",
    "cluster_costs = df.loc[tslice]['cost'].groupby(clusters).sum().drop(index='none')\n",
    "display(cluster_costs)"
   ]
  },
  {
   "cell_type": "markdown",
   "metadata": {},
   "source": [
    "Finally, we simply plot this results using pandas/matplotlib. As you can see, in April 2019, we had 3 clusters that cost about 150 USD each to keep running, and 3 additional clusters that cost between 645 USD and 1084 USD."
   ]
  },
  {
   "cell_type": "code",
   "execution_count": null,
   "metadata": {},
   "outputs": [],
   "source": [
    "cluster_costs.sort_values().plot.bar()\n",
    "plt.ylabel('Cost (USD)')\n",
    "plt.title('Pangeo Kubernetes Costs (%s - %s)' % (tslice.start, tslice.stop))"
   ]
  },
  {
   "cell_type": "code",
   "execution_count": null,
   "metadata": {},
   "outputs": [],
   "source": []
  }
 ],
 "metadata": {
  "kernelspec": {
   "display_name": "Python 3",
   "language": "python",
   "name": "python3"
  },
  "language_info": {
   "codemirror_mode": {
    "name": "ipython",
    "version": 3
   },
   "file_extension": ".py",
   "mimetype": "text/x-python",
   "name": "python",
   "nbconvert_exporter": "python",
   "pygments_lexer": "ipython3",
   "version": "3.6.7"
  }
 },
 "nbformat": 4,
 "nbformat_minor": 2
}
